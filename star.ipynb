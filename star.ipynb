{
 "cells": [
  {
   "cell_type": "code",
   "execution_count": 13,
   "metadata": {},
   "outputs": [],
   "source": [
    "conexoes = {\n",
    "    'A': [('C', 2), ('D', 3)],\n",
    "    'C': [('D', 1), ('E', 4), ('F', 6)],\n",
    "    'D': [('E', 1), ('G', 5)],\n",
    "    'E': [('B', 5), ('F', 2)],\n",
    "    'F': [('B', 3)],\n",
    "    'G': [('E', 2), ('B', 9)],\n",
    "    'H': [('A', 4), ('D', 3)],\n",
    "    'I': [('H', 3), ('J', 6)],\n",
    "    'J': [('A', 5)]\n",
    "    # você pode adicionar mais valores aqui \n",
    "}\n",
    "\n",
    "# Heurística (distancia de x até B)\n",
    "heuristica = {\n",
    "    'A': 7, 'C': 5, 'D': 7, 'E': 3, 'F': 2,\n",
    "    'G': 6, 'H': 8, 'I': 9, 'J': 10, 'B':0\n",
    "}\n"
   ]
  },
  {
   "cell_type": "code",
   "execution_count": 14,
   "metadata": {},
   "outputs": [
    {
     "name": "stdout",
     "output_type": "stream",
     "text": [
      "Fronteiras listadas antes da troca: [('A', 0)]\n",
      "Decisão: A:0\n",
      "Fronteiras listadas antes da troca: [('C', 7), ('D', 10)]\n",
      "Decisão: C:7\n",
      "Fronteiras listadas antes da troca: [('D', 10), ('D', 10), ('E', 9), ('F', 10)]\n",
      "Decisão: E:9\n",
      "Fronteiras listadas antes da troca: [('D', 10), ('D', 10), ('F', 10), ('B', 11), ('F', 10)]\n",
      "Decisão: D:10\n",
      "Fronteiras listadas antes da troca: [('F', 10), ('B', 11), ('F', 10), ('E', 7), ('G', 14)]\n",
      "Decisão: E:7\n",
      "Fronteiras listadas antes da troca: [('F', 10), ('B', 11), ('F', 10), ('G', 14), ('B', 9), ('F', 8)]\n",
      "Decisão: F:8\n",
      "Fronteiras listadas antes da troca: [('B', 11), ('G', 14), ('B', 9), ('B', 9)]\n",
      "Decisão: B:9\n",
      "Destino alcançado!\n"
     ]
    }
   ],
   "source": [
    "\n",
    "def busca_star(origem, destino):\n",
    "    fronteira = [(origem, 0)] # [(cidade, distancia)]\n",
    "    visitados = set() # Conjunto de dados únicos = cidades visitadas\n",
    "    \n",
    "    custo_do_caminho = {origem: 0} # para cada cidade\n",
    "    caminho = [] # Guardar o caminho escolhido\n",
    "\n",
    "    while fronteira: \n",
    "        print(f'Fronteiras listadas antes da troca: {fronteira}')\n",
    "\n",
    "        atual, valor = min(fronteira, key=lambda x: x[1])        \n",
    "        print(f\"Decisão: {atual}:{valor}\")\n",
    "        \n",
    "        fronteira = list(filter(lambda x: x[0] != atual, fronteira)) # Remove a \n",
    "        \n",
    "        if atual == destino:\n",
    "            print(\"Destino alcançado!\")\n",
    "            return \n",
    "        visitados.add((atual, valor))\n",
    "            \n",
    "        for vizinho, distancia in conexoes.get(atual, []):\n",
    "            custo = custo_do_caminho[atual] + distancia \n",
    "            f = custo + heuristica[vizinho]\n",
    "\n",
    "            if ((vizinho,f)) not in visitados:\n",
    "                caminho.append((f\"{atual}:{vizinho}\", f))\n",
    "                custo_do_caminho[vizinho] = custo\n",
    "                fronteira.append((vizinho, f))\n",
    "busca_star('A', 'B')"
   ]
  },
  {
   "cell_type": "code",
   "execution_count": 15,
   "metadata": {},
   "outputs": [
    {
     "name": "stdout",
     "output_type": "stream",
     "text": [
      "Fronteiras listadas antes da troca: [('Arad', 0)]\n",
      "Decisão: Arad:0\n",
      "Fronteiras listadas antes da troca: [('Sibiu', 393), ('Zerind', 449), ('Timisoara', 447)]\n",
      "Decisão: Sibiu:393\n",
      "Fronteiras listadas antes da troca: [('Zerind', 449), ('Timisoara', 447), ('Rimnicu Vilcea', 413), ('Oradea', 671), ('Arad', 646), ('Fagaras', 417)]\n",
      "Decisão: Rimnicu Vilcea:413\n",
      "Fronteiras listadas antes da troca: [('Zerind', 449), ('Timisoara', 447), ('Oradea', 671), ('Arad', 646), ('Fagaras', 417), ('Craiova', 526), ('Pitesti', 415), ('Sibiu', 553)]\n",
      "Decisão: Pitesti:415\n",
      "Fronteiras listadas antes da troca: [('Zerind', 449), ('Timisoara', 447), ('Oradea', 671), ('Arad', 646), ('Fagaras', 417), ('Craiova', 526), ('Sibiu', 553), ('Rimnicu Vilcea', 607), ('Craiova', 615), ('Bucharest', 418)]\n",
      "Decisão: Fagaras:417\n",
      "Fronteiras listadas antes da troca: [('Zerind', 449), ('Timisoara', 447), ('Oradea', 671), ('Arad', 646), ('Craiova', 526), ('Sibiu', 553), ('Rimnicu Vilcea', 607), ('Craiova', 615), ('Bucharest', 418), ('Sibiu', 591), ('Bucharest', 450)]\n",
      "Decisão: Bucharest:418\n",
      "Destino alcançado!\n"
     ]
    }
   ],
   "source": [
    "conexoes= {\n",
    "  \"Arad\": [(\"Sibiu\",140),(\"Zerind\",75),(\"Timisoara\",118)],\n",
    "  'Zerind': [('Arad',75),('Oradea',71)],\n",
    "  'Oradea': [('Zerind', 71), ('Sibiu',151)],\n",
    "  'Timisoara': [('Arad',118),('Lugoj',111)],\n",
    "  'Lugoj': [('Timisoara',111),('Mehadia',70)],\n",
    "  'Mehadia': [('Lugoj',70),('Dobreta',75)],\n",
    "  'Dobreta': [('Mehadia',75),('Craiova',120)],\n",
    "  'Craiova': [('Dobreta',120),('Pitesti',138),('Rimnicu Vilcea',146)],\n",
    "  'Rimnicu Vilcea': [('Craiova',146),('Pitesti',97),('Sibiu',80)],\n",
    "  'Sibiu': [('Rimnicu Vilcea',80),('Oradea',151),('Arad',140),('Fagaras',99)],\n",
    "  'Fagaras': [('Sibiu', 99), ('Bucharest',211)],\n",
    "  'Pitesti': [('Rimnicu Vilcea',97),('Craiova',138), ('Bucharest',101)],\n",
    "  'Bucharest': [('Pitesti',101), ('Fagaras',211),('Giurgiu',90),('Urziceni',85)],\n",
    "  'Giurgiu': [('Bucharest', 90)],\n",
    "  'Urziceni': [('Bucharest', 85),('Hirsova',98), ('Vaslul',142)],\n",
    "  'Hirsova': [('Urziceni',98),('Eforie',86)],\n",
    "  'Eforie': [('Hirsova', 86)],\n",
    "  'Vaslul': [('Urziceni',142), ('Iasi',92)],\n",
    "  'Iasi': [('Vaslul',92),('Neamt', 87)],\n",
    "  'Neamt': [('Iasi', 87)]\n",
    "}\n",
    "\n",
    "\n",
    "heuristica = {\n",
    "  'Arad': 366,\n",
    "  'Bucharest': 0,\n",
    "  'Craiova': 160,\n",
    "  'Dobreta': 242,\n",
    "  'Eforie': 161,\n",
    "  'Fagaras': 178,\n",
    "  'Giurgiu': 77,\n",
    "  'Hirsova': 151,\n",
    "  'Iasi': 266,\n",
    "  'Lugoj': 244,\n",
    "  'Mehadia': 241,\n",
    "  'Neamt': 234,\n",
    "  'Oradea': 380,\n",
    "  'Pitesti': 98,\n",
    "  'Rimnicu Vilcea': 193,\n",
    "  'Sibiu': 253,\n",
    "  'Timisoara': 329,\n",
    "  'Urziceni': 80,\n",
    "  'Vaslul': 199,\n",
    "  'Zerind': 374\n",
    "\n",
    "}\n",
    "\n",
    "busca_star('Arad', 'Bucharest')"
   ]
  },
  {
   "cell_type": "code",
   "execution_count": null,
   "metadata": {},
   "outputs": [],
   "source": []
  },
  {
   "cell_type": "code",
   "execution_count": null,
   "metadata": {},
   "outputs": [],
   "source": []
  }
 ],
 "metadata": {
  "kernelspec": {
   "display_name": "Python 3",
   "language": "python",
   "name": "python3"
  },
  "language_info": {
   "codemirror_mode": {
    "name": "ipython",
    "version": 3
   },
   "file_extension": ".py",
   "mimetype": "text/x-python",
   "name": "python",
   "nbconvert_exporter": "python",
   "pygments_lexer": "ipython3",
   "version": "3.12.2"
  }
 },
 "nbformat": 4,
 "nbformat_minor": 2
}
