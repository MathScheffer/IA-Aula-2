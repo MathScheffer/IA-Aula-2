{
 "cells": [
  {
   "cell_type": "code",
   "execution_count": 2,
   "metadata": {},
   "outputs": [],
   "source": [
    "conexoes = {\n",
    "    'A': [('C', 2), ('D', 3)],\n",
    "    'C': [('D', 1), ('E', 4), ('F', 6)],\n",
    "    'D': [('E', 1), ('G', 5)],\n",
    "    'E': [('B', 5), ('F', 2)],\n",
    "    'F': [('B', 3)],\n",
    "    'G': [('E', 2), ('B', 9)],\n",
    "    'H': [('A', 4), ('D', 3)],\n",
    "    'I': [('H', 3), ('J', 6)],\n",
    "    'J': [('A', 5)]\n",
    "    # você pode adicionar mais valores aqui \n",
    "}\n",
    "\n",
    "# Heurística (distancia de x até B)\n",
    "heuristica = {\n",
    "    'A': 7, 'C': 5, 'D': 7, 'E': 3, 'F': 2,\n",
    "    'G': 6, 'H': 8, 'I': 9, 'J': 10, 'B':0\n",
    "}\n"
   ]
  },
  {
   "cell_type": "code",
   "execution_count": 50,
   "metadata": {},
   "outputs": [
    {
     "name": "stdout",
     "output_type": "stream",
     "text": [
      "Fronteira antes do min: [('A', 0)]\n",
      "Atual: A:0\n",
      "{('A', 0)}\n",
      "Fronteira antes do min: [('C', 7), ('D', 10)]\n",
      "Atual: C:7\n",
      "{('A', 0), ('C', 7)}\n",
      "Fronteira antes do min: [('D', 10), ('D', 10), ('E', 9), ('F', 10)]\n",
      "Atual: E:9\n",
      "{('A', 0), ('C', 7), ('E', 9)}\n",
      "Fronteira antes do min: [('D', 10), ('D', 10), ('F', 10), ('B', 11), ('F', 10)]\n",
      "Atual: D:10\n",
      "{('A', 0), ('C', 7), ('D', 10), ('E', 9)}\n",
      "Fronteira antes do min: [('F', 10), ('B', 11), ('F', 10), ('E', 7), ('G', 14)]\n",
      "Atual: E:7\n",
      "{('C', 7), ('D', 10), ('A', 0), ('E', 7), ('E', 9)}\n",
      "Fronteira antes do min: [('F', 10), ('B', 11), ('F', 10), ('G', 14), ('B', 9), ('F', 8)]\n",
      "Atual: F:8\n",
      "{('C', 7), ('D', 10), ('F', 8), ('A', 0), ('E', 7), ('E', 9)}\n",
      "Fronteira antes do min: [('B', 11), ('G', 14), ('B', 9), ('B', 9)]\n",
      "Atual: B:9\n",
      "Destino alcançado!\n"
     ]
    }
   ],
   "source": [
    "\n",
    "def busca_star(origem, destino):\n",
    "    fronteira = [(origem, 0)] # [(cidade, distancia)]\n",
    "    visitados = set() # Conjunto de dados únicos = cidades visitadas\n",
    "    \n",
    "    custo_do_caminho = {origem: 0} # para cada cidade\n",
    "    caminho = [] # Guardar o caminho escolhido\n",
    "\n",
    "    while fronteira: \n",
    "        print(f'Fronteira antes do min: {fronteira}')\n",
    "\n",
    "        atual, valor = min(fronteira, key=lambda x: x[1])        \n",
    "        print(f\"Atual: {atual}:{valor}\")\n",
    "        \n",
    "        fronteira = list(filter(lambda x: x[0] != atual, fronteira)) # Remove a \n",
    "        \n",
    "        if atual == destino:\n",
    "            print(\"Destino alcançado!\")\n",
    "            return \n",
    "        visitados.add((atual, valor))\n",
    "        print(visitados)\n",
    "            \n",
    "        # Explorar cidades adjacentes\n",
    "        for vizinho, distancia in conexoes.get(atual, []):\n",
    "            # aqui novo custo ..\n",
    "            custo = custo_do_caminho[atual] + distancia \n",
    "            f = custo + heuristica[vizinho]\n",
    "\n",
    "            if ((vizinho,f)) not in visitados:\n",
    "             #   print('entrou na cond')\n",
    "                #print(\"vizinho pendente: \", vizinho)\n",
    "                caminho.append((f\"{atual}:{vizinho}\", f))\n",
    "                custo_do_caminho[vizinho] = custo\n",
    "                #print(\"Vizinho: \",vizinho)\n",
    "                #\n",
    "                fronteira.append((vizinho, f))\n",
    "            #print(f'Caminho: {caminho}')\n",
    "           # print(custo_do_caminho)\n",
    "# Executa a busca do caminho\n",
    "busca_star('A', 'B')"
   ]
  },
  {
   "cell_type": "code",
   "execution_count": 40,
   "metadata": {},
   "outputs": [
    {
     "data": {
      "text/plain": [
       "False"
      ]
     },
     "execution_count": 40,
     "metadata": {},
     "output_type": "execute_result"
    }
   ],
   "source": []
  }
 ],
 "metadata": {
  "kernelspec": {
   "display_name": "Python 3",
   "language": "python",
   "name": "python3"
  },
  "language_info": {
   "codemirror_mode": {
    "name": "ipython",
    "version": 3
   },
   "file_extension": ".py",
   "mimetype": "text/x-python",
   "name": "python",
   "nbconvert_exporter": "python",
   "pygments_lexer": "ipython3",
   "version": "3.12.2"
  }
 },
 "nbformat": 4,
 "nbformat_minor": 2
}
