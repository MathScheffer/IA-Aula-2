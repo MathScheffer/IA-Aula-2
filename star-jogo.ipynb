{
 "cells": [
  {
   "cell_type": "code",
   "execution_count": 124,
   "metadata": {},
   "outputs": [],
   "source": [
    "from copy import deepcopy"
   ]
  },
  {
   "cell_type": "markdown",
   "metadata": {},
   "source": [
    "### Setando Estados"
   ]
  },
  {
   "cell_type": "code",
   "execution_count": 125,
   "metadata": {},
   "outputs": [],
   "source": [
    "# Estado inicial do quebra-cabeça\n",
    "estado_inicial = [[1,0,3],\n",
    "                  [4,2,5],\n",
    "                  [7,8,6]]\n",
    "\n",
    "# Estado final do quebra-cabeça\n",
    "estado_final = [[1,2,3],\n",
    "                [4,5,6],\n",
    "                [7,8,0]]"
   ]
  },
  {
   "cell_type": "markdown",
   "metadata": {},
   "source": [
    "### jogadas possíveis de acordo com o Estado Atual"
   ]
  },
  {
   "cell_type": "code",
   "execution_count": 114,
   "metadata": {},
   "outputs": [],
   "source": [
    "# Dicionário de movimentos\n",
    "def jogadas_possiveis():\n",
    "    jogadas_possiveis = []\n",
    "    for i in range(len(estado_inicial)):\n",
    "        for j in range(len(estado_inicial[i])):\n",
    "            if estado_inicial[i][j] == 0:\n",
    "                if (i != 0):\n",
    "                    jogadas_possiveis.append(\"Cima\")\n",
    "                if(j != (len(estado_inicial[i]) - 1)):\n",
    "                    jogadas_possiveis.append('Direita')\n",
    "                if(j != 0):\n",
    "                    jogadas_possiveis.append('Esquerda')\n",
    "                if(i != (len(estado_inicial) - 1)):\n",
    "                    jogadas_possiveis.append('Baixo')\n",
    "    return jogadas_possiveis\n",
    "#jogadas_possiveis()\n",
    "# Função para calcular a distância de Manhattan\n",
    "#def troca(direcao):   "
   ]
  },
  {
   "cell_type": "markdown",
   "metadata": {},
   "source": [
    "### Efetua uma jogada e retorna o estado modificado"
   ]
  },
  {
   "cell_type": "code",
   "execution_count": 126,
   "metadata": {},
   "outputs": [],
   "source": [
    "\n",
    "def jogar(movimento):\n",
    "    estado = deepcopy(estado_inicial)\n",
    "\n",
    "    is_jogada = movimento in jogadas_possiveis()\n",
    "\n",
    "    for i in range(len(estado)):\n",
    "            for j in range(len(estado[i])):\n",
    "                if estado[i][j] == 0:      \n",
    "                    print(i,j)     \n",
    "                    if(movimento == 'Cima' and is_jogada):\n",
    "                        temp = estado[i - 1][j]  \n",
    "                        estado[i - 1][j] = 0\n",
    "                        estado[i][j] = temp\n",
    "                        return estado\n",
    "                    if(movimento == 'Baixo'  and is_jogada):\n",
    "                        temp = estado[i+1][j]  \n",
    "                        estado[i+1][j] = 0\n",
    "                        estado[i][j] = temp\n",
    "                        return estado\n",
    "                    if(movimento == 'Esquerda'  and is_jogada):\n",
    "                        temp = estado[i][j - 1]  \n",
    "                        estado[i][j - 1] = 0\n",
    "                        estado[i][j] = temp\n",
    "                        return estado\n",
    "                    if(movimento == 'Direita'  and is_jogada):\n",
    "                        temp = estado[i][j + 1]  \n",
    "                        estado[i][j + 1] = 0\n",
    "                        estado[i][j] = temp\n",
    "                        return estado\n",
    "                    else:\n",
    "                        print(\"Jogada Impossivel\"       )\n",
    "                        return estado\n",
    "    "
   ]
  },
  {
   "cell_type": "code",
   "execution_count": 137,
   "metadata": {},
   "outputs": [
    {
     "name": "stdout",
     "output_type": "stream",
     "text": [
      "0 1\n"
     ]
    },
    {
     "data": {
      "text/plain": [
       "[[1, 2, 3], [4, 0, 5], [7, 8, 6]]"
      ]
     },
     "execution_count": 137,
     "metadata": {},
     "output_type": "execute_result"
    },
    {
     "ename": "",
     "evalue": "",
     "output_type": "error",
     "traceback": [
      "\u001b[1;31mThe Kernel crashed while executing code in the current cell or a previous cell. \n",
      "\u001b[1;31mPlease review the code in the cell(s) to identify a possible cause of the failure. \n",
      "\u001b[1;31mClick <a href='https://aka.ms/vscodeJupyterKernelCrash'>here</a> for more info. \n",
      "\u001b[1;31mView Jupyter <a href='command:jupyter.viewOutput'>log</a> for further details."
     ]
    }
   ],
   "source": [
    "jogar(\"Baixo\")"
   ]
  },
  {
   "cell_type": "markdown",
   "metadata": {},
   "source": [
    "### Verifica pontuação do Estado"
   ]
  },
  {
   "cell_type": "code",
   "execution_count": null,
   "metadata": {},
   "outputs": [],
   "source": []
  },
  {
   "cell_type": "markdown",
   "metadata": {},
   "source": [
    "### A*"
   ]
  },
  {
   "cell_type": "code",
   "execution_count": null,
   "metadata": {},
   "outputs": [],
   "source": [
    "\n",
    "# Função para gerar os estados vizinhos\n",
    "def gerar_vizinhos(estado):\n",
    "    vizinhos = []\n",
    "    for direcao, movimento in movimentos.items():\n",
    "        i = estado.index(0)\n",
    "        j = i // 3 + movimento[0]\n",
    "        k = i % 3 + movimento[1]\n",
    "        if 0 <= j < 3 and 0 <= k < 3:\n",
    "            vizinho = estado[:]\n",
    "            vizinho[i], vizinho[j * 3 + k] = vizinho[j * 3 + k], vizinho[i]\n",
    "            yield vizinho, direcao\n",
    "\n",
    "# Função para buscar o caminho com o algoritmo A*\n",
    "def busca_star(estado_inicial):\n",
    "    fronteira = [] # Fila de prioridades\n",
    "    visitados = set() # Conjunto de estados visitados\n",
    "    custo_do_caminho = {} # Dicionário para armazenar custos\n",
    "    pai = {} # Dicionário para armazenar pais dos estados\n",
    "\n",
    "    heappush(fronteira, (0, estado_inicial))\n",
    "# Defina o valor de custo_do_caminho\n",
    "    custo_do_caminho[estado_inicial] = 0\n",
    "\n",
    "    while fronteira:\n",
    "        _, estado_atual = heappop(fronteira)\n",
    "\n",
    "        if estado_atual == estado_final:\n",
    "            caminho = []\n",
    "            while estado_atual is not None:\n",
    "                caminho.append(estado_atual)\n",
    "                estado_atual = pai[estado_atual]\n",
    "            return caminho[::-1]\n",
    "\n",
    "        visitados.add(estado_atual)\n",
    "\n",
    "        for vizinho, direcao in gerar_vizinhos(estado_atual):\n",
    "            if vizinho not in visitados:\n",
    "                custo = custo_do_caminho[estado_atual] + 1\n",
    "                custo_total = custo + distancia_manhattan(vizinho)\n",
    "                custo_do_caminho[vizinho] = custo\n",
    "                pai[vizinho] = estado_atual\n",
    "                heappush(fronteira, (custo_total, vizinho))\n",
    "\n",
    "# Encontrar o caminho\n",
    "caminho = busca_star(estado_inicial)\n",
    "\n",
    "# Exibir o caminho\n",
    "if caminho:\n",
    "    for estado in caminho:\n",
    "        print(estado)\n",
    "else:\n",
    "    print(\"Caminho não encontrado\")\n"
   ]
  },
  {
   "cell_type": "code",
   "execution_count": 5,
   "metadata": {},
   "outputs": [],
   "source": [
    "from pyamaze import maze,COLOR,agent\n",
    "m=maze(10,10)\n",
    "m.CreateMaze(theme=COLOR.light)\n",
    "a=agent(m)\n",
    "m.run()"
   ]
  },
  {
   "cell_type": "code",
   "execution_count": 4,
   "metadata": {},
   "outputs": [],
   "source": [
    "conexoes= {\n",
    "  \"Arad\": [(\"Sibiu\",140),(\"Zerind\",75),(\"Timisoara\",118)],\n",
    "  'Zerind': [('Arad',75),('Oradea',71)],\n",
    "  'Oradea': [('Zerind', 71), ('Sibiu',151)],\n",
    "  'Timisoara': [('Arad',118),('Lugoj',111)],\n",
    "  'Lugoj': [('Timisoara',111),('Mehadia',70)],\n",
    "  'Mehadia': [('Lugoj',70),('Dobreta',75)],\n",
    "  'Dobreta': [('Mehadia',75),('Craiova',120)],\n",
    "  'Craiova': [('Dobreta',120),('Pitesti',138),('Rimnicu Vilcea',146)],\n",
    "  'Rimnicu Vilcea': [('Craiova',146),('Pitesti',97),('Sibiu',80)],\n",
    "  'Sibiu': [('Rimnicu Vilcea',80),('Oradea',151),('Arad',140),('Fagaras',99)],\n",
    "  'Fagaras': [('Sibiu', 99), ('Bucharest',211)],\n",
    "  'Pitesti': [('Rimnicu Vilcea',97),('Craiova',138), ('Bucharest',101)],\n",
    "  'Bucharest': [('Pitesti',101), ('Fagaras',211),('Giurgiu',90),('Urziceni',85)],\n",
    "  'Giurgiu': [('Bucharest', 90)],\n",
    "  'Urziceni': [('Bucharest', 85),('Hirsova',98), ('Vaslul',142)],\n",
    "  'Hirsova': [('Urziceni',98),('Eforie',86)],\n",
    "  'Eforie': [('Hirsova', 86)],\n",
    "  'Vaslul': [('Urziceni',142), ('Iasi',92)],\n",
    "  'Iasi': [('Vaslul',92),('Neamt', 87)],\n",
    "  'Neamt': [('Iasi', 87)]\n",
    "}\n",
    "\n",
    "\n",
    "heuristica = {\n",
    "  'Arad': 366,\n",
    "  'Bucharest': 0,\n",
    "  'Craiova': 160,\n",
    "  'Dobreta': 242,\n",
    "  'Eforie': 161,\n",
    "  'Fagaras': 178,\n",
    "  'Giurgiu': 77,\n",
    "  'Hirsova': 151,\n",
    "  'Iasi': 266,\n",
    "  'Lugoj': 244,\n",
    "  'Mehadia': 241,\n",
    "  'Neamt': 234,\n",
    "  'Oradea': 380,\n",
    "  'Pitesti': 98,\n",
    "  'Rimnicu Vilcea': 193,\n",
    "  'Sibiu': 253,\n",
    "  'Timisoara': 329,\n",
    "  'Urziceni': 80,\n",
    "  'Vaslul': 199,\n",
    "  'Zerind': 374\n",
    "\n",
    "}"
   ]
  },
  {
   "cell_type": "code",
   "execution_count": 5,
   "metadata": {},
   "outputs": [
    {
     "name": "stdout",
     "output_type": "stream",
     "text": [
      "Fronteira antes do min: [('Arad', 0)]\n",
      "Atual: Arad:0\n",
      "{('Arad', 0)}\n",
      "Fronteira antes do min: [('Sibiu', 393), ('Zerind', 449), ('Timisoara', 447)]\n",
      "Atual: Sibiu:393\n",
      "{('Sibiu', 393), ('Arad', 0)}\n",
      "Fronteira antes do min: [('Zerind', 449), ('Timisoara', 447), ('Rimnicu Vilcea', 413), ('Oradea', 671), ('Arad', 646), ('Fagaras', 417)]\n",
      "Atual: Rimnicu Vilcea:413\n",
      "{('Sibiu', 393), ('Rimnicu Vilcea', 413), ('Arad', 0)}\n",
      "Fronteira antes do min: [('Zerind', 449), ('Timisoara', 447), ('Oradea', 671), ('Arad', 646), ('Fagaras', 417), ('Craiova', 526), ('Pitesti', 415), ('Sibiu', 553)]\n",
      "Atual: Pitesti:415\n",
      "{('Sibiu', 393), ('Rimnicu Vilcea', 413), ('Arad', 0), ('Pitesti', 415)}\n",
      "Fronteira antes do min: [('Zerind', 449), ('Timisoara', 447), ('Oradea', 671), ('Arad', 646), ('Fagaras', 417), ('Craiova', 526), ('Sibiu', 553), ('Rimnicu Vilcea', 607), ('Craiova', 615), ('Bucharest', 418)]\n",
      "Atual: Fagaras:417\n",
      "{('Sibiu', 393), ('Rimnicu Vilcea', 413), ('Fagaras', 417), ('Arad', 0), ('Pitesti', 415)}\n",
      "Fronteira antes do min: [('Zerind', 449), ('Timisoara', 447), ('Oradea', 671), ('Arad', 646), ('Craiova', 526), ('Sibiu', 553), ('Rimnicu Vilcea', 607), ('Craiova', 615), ('Bucharest', 418), ('Sibiu', 591), ('Bucharest', 450)]\n",
      "Atual: Bucharest:418\n",
      "Destino alcançado!\n"
     ]
    }
   ],
   "source": [
    "\n",
    "def busca_star(origem, destino):\n",
    "    fronteira = [(origem, 0)] # [(cidade, distancia)]\n",
    "    visitados = set() # Conjunto de dados únicos = cidades visitadas\n",
    "    \n",
    "    custo_do_caminho = {origem: 0} # para cada cidade\n",
    "    caminho = [] # Guardar o caminho escolhido\n",
    "\n",
    "    while fronteira: \n",
    "        print(f'Fronteira antes do min: {fronteira}')\n",
    "\n",
    "        atual, valor = min(fronteira, key=lambda x: x[1])        \n",
    "        print(f\"Atual: {atual}:{valor}\")\n",
    "        \n",
    "        fronteira = list(filter(lambda x: x[0] != atual, fronteira)) # Remove a \n",
    "        \n",
    "        if atual == destino:\n",
    "            print(\"Destino alcançado!\")\n",
    "            return \n",
    "        visitados.add((atual, valor))\n",
    "        print(visitados)\n",
    "            \n",
    "        # Explorar cidades adjacentes\n",
    "        for vizinho, distancia in conexoes.get(atual, []):\n",
    "            # aqui novo custo ..\n",
    "            custo = custo_do_caminho[atual] + distancia \n",
    "            f = custo + heuristica[vizinho]\n",
    "\n",
    "            if ((vizinho,f)) not in visitados:\n",
    "             #   print('entrou na cond')\n",
    "                #print(\"vizinho pendente: \", vizinho)\n",
    "                caminho.append((f\"{atual}:{vizinho}\", f))\n",
    "                custo_do_caminho[vizinho] = custo\n",
    "                #print(\"Vizinho: \",vizinho)\n",
    "                #\n",
    "                fronteira.append((vizinho, f))\n",
    "            #print(f'Caminho: {caminho}')\n",
    "           # print(custo_do_caminho)\n",
    "def reconstruir_caminho(no):\n",
    "    caminho = []\n",
    "\n",
    "    while no is not None:\n",
    "        caminho.append(no)\n",
    "        no = no.pai\n",
    "\n",
    "    return caminho[::-1]\n",
    "# Executa a busca do caminho\n",
    "busca_star('Arad', 'Bucharest')"
   ]
  },
  {
   "cell_type": "code",
   "execution_count": null,
   "metadata": {},
   "outputs": [],
   "source": []
  }
 ],
 "metadata": {
  "kernelspec": {
   "display_name": "Python 3",
   "language": "python",
   "name": "python3"
  },
  "language_info": {
   "codemirror_mode": {
    "name": "ipython",
    "version": 3
   },
   "file_extension": ".py",
   "mimetype": "text/x-python",
   "name": "python",
   "nbconvert_exporter": "python",
   "pygments_lexer": "ipython3",
   "version": "3.12.2"
  }
 },
 "nbformat": 4,
 "nbformat_minor": 2
}
