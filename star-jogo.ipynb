{
 "cells": [
  {
   "cell_type": "code",
   "execution_count": 1,
   "metadata": {},
   "outputs": [],
   "source": [
    "from copy import deepcopy"
   ]
  },
  {
   "cell_type": "markdown",
   "metadata": {},
   "source": [
    "### Setando Estados"
   ]
  },
  {
   "cell_type": "code",
   "execution_count": 2,
   "metadata": {},
   "outputs": [],
   "source": [
    "# Estado inicial do quebra-cabeça\n",
    "estado_inicial = [[1,0,3],\n",
    "                  [4,2,5],\n",
    "                  [7,8,6]]\n",
    "\n",
    "# Estado final do quebra-cabeça\n",
    "estado_final = [[1,2,3],\n",
    "                [4,5,6],\n",
    "                [7,8,0]]"
   ]
  },
  {
   "cell_type": "markdown",
   "metadata": {},
   "source": [
    "### jogadas possíveis de acordo com o Estado Atual"
   ]
  },
  {
   "cell_type": "code",
   "execution_count": 9,
   "metadata": {},
   "outputs": [],
   "source": [
    "# Dicionário de movimentos\n",
    "def jogadas_possiveis(estado):\n",
    "    estado = deepcopy(estado)\n",
    "    jogadas_possiveis = []\n",
    "    for i in range(len(estado)):\n",
    "        for j in range(len(estado[i])):\n",
    "            if estado[i][j] == 0:\n",
    "                if (i != 0):\n",
    "                    jogadas_possiveis.append(\"Cima\")\n",
    "                if(j != (len(estado[i]) - 1)):\n",
    "                    jogadas_possiveis.append('Direita')\n",
    "                if(j != 0):\n",
    "                    jogadas_possiveis.append('Esquerda')\n",
    "                if(i != (len(estado) - 1)):\n",
    "                    jogadas_possiveis.append('Baixo')\n",
    "    return jogadas_possiveis\n",
    "#jogadas_possiveis()\n",
    "# Função para calcular a distância de Manhattan\n",
    "#def troca(direcao):"
   ]
  },
  {
   "cell_type": "markdown",
   "metadata": {},
   "source": [
    "### Efetua uma jogada e retorna o estado modificado"
   ]
  },
  {
   "cell_type": "code",
   "execution_count": 15,
   "metadata": {},
   "outputs": [],
   "source": [
    "\n",
    "def jogar(estado, movimento):\n",
    "    estado = deepcopy(estado)\n",
    "\n",
    "    is_jogada = movimento in jogadas_possiveis(estado)\n",
    "\n",
    "    for i in range(len(estado)):\n",
    "            for j in range(len(estado[i])):\n",
    "                if estado[i][j] == 0:      \n",
    "                    print(i,j)     \n",
    "                    if(movimento == 'Cima' and is_jogada):\n",
    "                        temp = estado[i - 1][j]  \n",
    "                        estado[i - 1][j] = 0\n",
    "                        estado[i][j] = temp\n",
    "                        return estado\n",
    "                    if(movimento == 'Baixo'  and is_jogada):\n",
    "                        temp = estado[i+1][j]  \n",
    "                        estado[i+1][j] = 0\n",
    "                        estado[i][j] = temp\n",
    "                        return estado\n",
    "                    if(movimento == 'Esquerda'  and is_jogada):\n",
    "                        temp = estado[i][j - 1]  \n",
    "                        estado[i][j - 1] = 0\n",
    "                        estado[i][j] = temp\n",
    "                        return estado\n",
    "                    if(movimento == 'Direita'  and is_jogada):\n",
    "                        temp = estado[i][j + 1]  \n",
    "                        estado[i][j + 1] = 0\n",
    "                        estado[i][j] = temp\n",
    "                        return estado\n",
    "                    else:\n",
    "                        print(\"Jogada Impossivel\")\n",
    "                        return estado\n",
    "    "
   ]
  },
  {
   "cell_type": "code",
   "execution_count": 20,
   "metadata": {},
   "outputs": [
    {
     "name": "stdout",
     "output_type": "stream",
     "text": [
      "2 1\n",
      "Jogada Impossivel\n"
     ]
    },
    {
     "data": {
      "text/plain": [
       "[[1, 2, 3], [4, 8, 5], [7, 0, 6]]"
      ]
     },
     "execution_count": 20,
     "metadata": {},
     "output_type": "execute_result"
    }
   ],
   "source": [
    "jogar([[1, 2, 3], [4, 8, 5], [7, 0, 6]],\"Baixo\")"
   ]
  },
  {
   "cell_type": "markdown",
   "metadata": {},
   "source": [
    "### Verifica pontuação do Estado"
   ]
  },
  {
   "cell_type": "code",
   "execution_count": 49,
   "metadata": {},
   "outputs": [
    {
     "data": {
      "text/plain": [
       "5"
      ]
     },
     "execution_count": 49,
     "metadata": {},
     "output_type": "execute_result"
    }
   ],
   "source": [
    "def avaliar_pontuacao(estado):\n",
    "  count = 0\n",
    "  estado_atual = deepcopy(estado)\n",
    "  for i in range(len(estado_atual)):\n",
    "          for j in range(len(estado_atual[i])):\n",
    "            count += 1 if estado_atual[i][j] == estado_final[i][j] else 0\n",
    "  return (estado_atual, count)\n",
    "\n",
    "avaliar_pontuacao(estado_inicial)[1]"
   ]
  },
  {
   "cell_type": "code",
   "execution_count": 72,
   "metadata": {},
   "outputs": [
    {
     "name": "stdout",
     "output_type": "stream",
     "text": [
      "['Direita', 'Esquerda', 'Baixo']\n",
      "0 1\n",
      "[[1, 3, 0], [4, 2, 5], [7, 8, 6]]\n",
      "([[1, 3, 0], [4, 2, 5], [7, 8, 6]], 4)\n",
      "0 1\n",
      "[[0, 1, 3], [4, 2, 5], [7, 8, 6]]\n",
      "([[0, 1, 3], [4, 2, 5], [7, 8, 6]], 4)\n",
      "0 1\n",
      "[[1, 2, 3], [4, 0, 5], [7, 8, 6]]\n",
      "([[1, 2, 3], [4, 0, 5], [7, 8, 6]], 6)\n"
     ]
    }
   ],
   "source": [
    "jogadas = jogadas_possiveis(estado_inicial)\n",
    "jogadas_feitas = []\n",
    "print(jogadas)\n",
    "for m in jogadas:\n",
    "  estado_atual = jogar(estado_inicial, m)\n",
    "  print(estado_atual)\n",
    "  print(avaliar_pontuacao(estado_atual))"
   ]
  },
  {
   "cell_type": "markdown",
   "metadata": {},
   "source": [
    "### A*"
   ]
  },
  {
   "cell_type": "code",
   "execution_count": 85,
   "metadata": {},
   "outputs": [
    {
     "name": "stdout",
     "output_type": "stream",
     "text": [
      "Fronteira antes do min: [([[1, 0, 3], [4, 2, 5], [7, 8, 6]], 5)]\n",
      "Atual: [[1, 0, 3], [4, 2, 5], [7, 8, 6]] - Pontuacao: 5\n",
      "0 1\n",
      "{('[[1, 0, 3], [4, 2, 5], [7, 8, 6]]', 5)}\n",
      "0 1\n",
      "{('[[1, 0, 3], [4, 2, 5], [7, 8, 6]]', 5)}\n",
      "0 1\n",
      "{('[[1, 0, 3], [4, 2, 5], [7, 8, 6]]', 5)}\n",
      "Fronteira antes do min: [([[1, 3, 0], [4, 2, 5], [7, 8, 6]], 4), ([[0, 1, 3], [4, 2, 5], [7, 8, 6]], 4), ([[1, 2, 3], [4, 0, 5], [7, 8, 6]], 6)]\n",
      "Atual: [[1, 2, 3], [4, 0, 5], [7, 8, 6]] - Pontuacao: 6\n",
      "1 1\n",
      "{('[[1, 0, 3], [4, 2, 5], [7, 8, 6]]', 5), ('[[1, 2, 3], [4, 0, 5], [7, 8, 6]]', 6)}\n",
      "1 1\n",
      "{('[[1, 0, 3], [4, 2, 5], [7, 8, 6]]', 5), ('[[1, 2, 3], [4, 0, 5], [7, 8, 6]]', 6)}\n",
      "1 1\n",
      "{('[[1, 0, 3], [4, 2, 5], [7, 8, 6]]', 5), ('[[1, 2, 3], [4, 0, 5], [7, 8, 6]]', 6)}\n",
      "Fronteira antes do min: [([[1, 3, 0], [4, 2, 5], [7, 8, 6]], 4), ([[0, 1, 3], [4, 2, 5], [7, 8, 6]], 4), ([[1, 2, 3], [4, 5, 0], [7, 8, 6]], 7), ([[1, 2, 3], [0, 4, 5], [7, 8, 6]], 5), ([[1, 2, 3], [4, 8, 5], [7, 0, 6]], 5)]\n",
      "Atual: [[1, 2, 3], [4, 5, 0], [7, 8, 6]] - Pontuacao: 7\n",
      "1 2\n",
      "Jogada Impossivel\n",
      "{('[[1, 2, 3], [4, 5, 0], [7, 8, 6]]', 7), ('[[1, 0, 3], [4, 2, 5], [7, 8, 6]]', 5), ('[[1, 2, 3], [4, 0, 5], [7, 8, 6]]', 6)}\n",
      "1 2\n",
      "{('[[1, 2, 3], [4, 5, 0], [7, 8, 6]]', 7), ('[[1, 0, 3], [4, 2, 5], [7, 8, 6]]', 5), ('[[1, 2, 3], [4, 0, 5], [7, 8, 6]]', 6)}\n",
      "1 2\n",
      "{('[[1, 2, 3], [4, 5, 0], [7, 8, 6]]', 7), ('[[1, 0, 3], [4, 2, 5], [7, 8, 6]]', 5), ('[[1, 2, 3], [4, 0, 5], [7, 8, 6]]', 6)}\n",
      "Fronteira antes do min: [([[1, 3, 0], [4, 2, 5], [7, 8, 6]], 4), ([[0, 1, 3], [4, 2, 5], [7, 8, 6]], 4), ([[1, 2, 3], [0, 4, 5], [7, 8, 6]], 5), ([[1, 2, 3], [4, 8, 5], [7, 0, 6]], 5), ([[1, 2, 3], [4, 5, 6], [7, 8, 0]], 9)]\n",
      "Atual: [[1, 2, 3], [4, 5, 6], [7, 8, 0]] - Pontuacao: 9\n",
      "Destino alcançado!\n"
     ]
    }
   ],
   "source": [
    "\n",
    "def busca_star2(inicial, final):\n",
    "    len_inicial =  avaliar_pontuacao(estado_inicial)[1]\n",
    "    estados = [(inicial, len_inicial)] # [(cidade, distancia)]\n",
    "    jogadas = set() # Conjunto de dados únicos = cidades visitadas\n",
    "\n",
    "    while estados: \n",
    "        print(f'Fronteira antes do min: {estados}')\n",
    "\n",
    "        atual = max(estados, key=lambda x: x[1])        \n",
    "        print(f\"Atual: {atual[0]} - Pontuacao: {atual[1]}\")\n",
    "        \n",
    "        estados = list(filter(lambda x: x != atual, estados)) # Remove a \n",
    "        \n",
    "        if atual[0] == final:\n",
    "            print(\"Destino alcançado!\")\n",
    "            return \n",
    "        \n",
    "        jogadas.add((str(atual[0]), atual[1]))\n",
    "\n",
    "        #print(jogar(atual[0], \"Baixo\"))\n",
    "        for m in jogadas_possiveis(estado_inicial):\n",
    "            jogada = jogar(atual[0], m)\n",
    "            print(jogadas)\n",
    "            pontuacao = avaliar_pontuacao(jogada)\n",
    "            if ((str(pontuacao[0]), pontuacao[1])) not in jogadas:\n",
    "                estados.append((pontuacao))\n",
    "\n",
    "busca_star2(estado_inicial, estado_final)"
   ]
  },
  {
   "cell_type": "code",
   "execution_count": null,
   "metadata": {},
   "outputs": [],
   "source": []
  }
 ],
 "metadata": {
  "kernelspec": {
   "display_name": "Python 3",
   "language": "python",
   "name": "python3"
  },
  "language_info": {
   "codemirror_mode": {
    "name": "ipython",
    "version": 3
   },
   "file_extension": ".py",
   "mimetype": "text/x-python",
   "name": "python",
   "nbconvert_exporter": "python",
   "pygments_lexer": "ipython3",
   "version": "3.12.2"
  }
 },
 "nbformat": 4,
 "nbformat_minor": 2
}
