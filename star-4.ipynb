{
 "cells": [
  {
   "cell_type": "code",
   "execution_count": null,
   "metadata": {},
   "outputs": [],
   "source": [
    "conexoes = {\n",
    "    'A': [('C', 2), ('D', 3)],\n",
    "    'C': [('D', 1), ('E', 4), ('F', 6)],\n",
    "    'D': [('E', 1), ('G', 5)],\n",
    "    'E': [('B', 5), ('F', 2)],\n",
    "    'F': [('B', 3)],\n",
    "    'G': [('E', 2), ('B', 9)],\n",
    "    'H': [('A', 4), ('D', 3)],\n",
    "    'I': [('H', 3), ('J', 6)],\n",
    "    'J': [('A', 5)]\n",
    "    # você pode adicionar mais valores aqui \n",
    "}\n",
    "\n",
    "# Heurística (distancia de x até B)\n",
    "heuristica = {\n",
    "    'A': 7, 'C': 5, 'D': 7, 'E': 3, 'F': 2,\n",
    "    'G': 6, 'H': 8, 'I': 9, 'J': 10, 'B':0\n",
    "}\n"
   ]
  },
  {
   "cell_type": "code",
   "execution_count": null,
   "metadata": {},
   "outputs": [],
   "source": [
    "\n",
    "def busca_star(origem, destino):\n",
    "    fronteira = [(origem, 0)] # [(cidade, distancia)]\n",
    "    visitados = set() # Conjunto de dados únicos = cidades visitadas\n",
    "    \n",
    "    custo_do_caminho = {origem: 0} # para cada cidade\n",
    "    caminho = {} # Guardar o caminho escolhido\n",
    "    reserva = {}\n",
    "\n",
    "    while fronteira: \n",
    "        #Depois que passar pelo pendente, armazenar os caminhos em uma variável para aí sim fazer o cálculo da mesma aqui  \n",
    "        atual, _ = min(fronteira, key=lambda x: custo_do_caminho[x[0]] + heuristica[x[0]])\n",
    "        \n",
    "        fronteira = list(filter(lambda x: x[0] != atual, fronteira)) # Remove a cidade atual da fronteira\n",
    "        pendente = fronteira\n",
    "       \n",
    "        \n",
    "        \n",
    "        \n",
    "        if atual == destino:\n",
    "            print(\"Destino alcançado!\")\n",
    "            return\n",
    "        \n",
    "        visitados.add(atual)\n",
    "        # Explorar cidades adjacentes\n",
    "        for vizinho, distancia in conexoes.get(atual, []):\n",
    "            # aqui novo custo ..\n",
    "            \n",
    "            if len(pendente) > 0:\n",
    "                print(\"Pendente > 0: \",pendente)\n",
    "                continue\n",
    "\n",
    "            if vizinho not in visitados:\n",
    "                print(\"vizinho pendente: \", vizinho)\n",
    "                custo = custo_do_caminho[atual] + distancia \n",
    "                custo_do_caminho[vizinho] = custo\n",
    "                #print(\"Vizinho: \",vizinho)\n",
    "                #\n",
    "                fronteira.append((vizinho, distancia))\n",
    "            print(custo_do_caminho)\n",
    "\n",
    "# Executa a busca do caminho\n",
    "busca_star('A', 'B')"
   ]
  }
 ],
 "metadata": {
  "language_info": {
   "name": "python"
  }
 },
 "nbformat": 4,
 "nbformat_minor": 2
}
