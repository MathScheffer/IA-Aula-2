{
 "cells": [
  {
   "cell_type": "code",
   "execution_count": 2,
   "metadata": {},
   "outputs": [],
   "source": [
    "conexoes = {\n",
    "    'A': [('C', 2), ('D', 3)],\n",
    "    'C': [('D', 1), ('E', 4), ('F', 6)],\n",
    "    'D': [('E', 1), ('G', 5)],\n",
    "    'E': [('B', 5), ('F', 2)],\n",
    "    'F': [('B', 3)],\n",
    "    'G': [('E', 2), ('B', 9)],\n",
    "    'H': [('A', 4), ('D', 3)],\n",
    "    'I': [('H', 3), ('J', 6)],\n",
    "    'J': [('A', 5)]\n",
    "    # você pode adicionar mais valores aqui \n",
    "}\n",
    "\n",
    "# Heurística (distancia de x até B)\n",
    "heuristica = {\n",
    "    'A': 7, 'C': 5, 'D': 7, 'E': 3, 'F': 2,\n",
    "    'G': 6, 'H': 8, 'I': 9, 'J': 10, 'B':0\n",
    "}\n"
   ]
  },
  {
   "cell_type": "code",
   "execution_count": 3,
   "metadata": {},
   "outputs": [
    {
     "name": "stdout",
     "output_type": "stream",
     "text": [
      "vizinho pendente:  C\n",
      "{'A': 0, 'C': 2}\n",
      "fronteira > 0:  [('C', 2)]\n",
      "vizinho pendente:  D\n",
      "{'A': 0, 'C': 2, 'D': 3}\n",
      "fronteira > 0:  [('D', 1)]\n",
      "fronteira > 0:  [('D', 1)]\n",
      "vizinho pendente:  E\n",
      "{'A': 0, 'C': 2, 'D': 3, 'E': 4}\n",
      "fronteira > 0:  [('E', 1)]\n",
      "vizinho pendente:  B\n",
      "{'A': 0, 'C': 2, 'D': 3, 'E': 4, 'B': 9}\n",
      "fronteira > 0:  [('B', 5)]\n",
      "Destino alcançado!\n"
     ]
    }
   ],
   "source": [
    "\n",
    "def busca_star(origem, destino):\n",
    "    fronteira = [(origem, 0)] # [(cidade, distancia)]\n",
    "    visitados = set() # Conjunto de dados únicos = cidades visitadas\n",
    "    \n",
    "    custo_do_caminho = {origem: 0} # para cada cidade\n",
    "    caminho = {} # Guardar o caminho escolhido\n",
    "    reserva = {}\n",
    "\n",
    "    while fronteira:   \n",
    "        atual, _ = min(fronteira, key=lambda x: custo_do_caminho[x[0]] + heuristica[x[0]])\n",
    "        \n",
    "        fronteira = list(filter(lambda x: x[0] != atual, fronteira)) # Remove a cidade atual da fronteira\n",
    "        \n",
    "        if atual == destino:\n",
    "            print(\"Destino alcançado!\")\n",
    "            return\n",
    "        \n",
    "        visitados.add(atual)\n",
    "        # Explorar cidades adjacentes\n",
    "        for vizinho, distancia in conexoes.get(atual, []):\n",
    "            # aqui novo custo ..\n",
    "            \n",
    "            if len(fronteira) > 0:\n",
    "                print(\"fronteira > 0: \",fronteira)\n",
    "                continue\n",
    "\n",
    "            if vizinho not in visitados:\n",
    "                print(\"vizinho pendente: \", vizinho)\n",
    "                custo = custo_do_caminho[atual] + distancia \n",
    "                custo_do_caminho[vizinho] = custo\n",
    "                #print(\"Vizinho: \",vizinho)\n",
    "                #\n",
    "                fronteira.append((vizinho, distancia))\n",
    "            print(custo_do_caminho)\n",
    "\n",
    "# Executa a busca do caminho\n",
    "busca_star('A', 'B')"
   ]
  },
  {
   "cell_type": "code",
   "execution_count": null,
   "metadata": {},
   "outputs": [],
   "source": []
  }
 ],
 "metadata": {
  "kernelspec": {
   "display_name": "Python 3",
   "language": "python",
   "name": "python3"
  },
  "language_info": {
   "codemirror_mode": {
    "name": "ipython",
    "version": 3
   },
   "file_extension": ".py",
   "mimetype": "text/x-python",
   "name": "python",
   "nbconvert_exporter": "python",
   "pygments_lexer": "ipython3",
   "version": "3.12.2"
  }
 },
 "nbformat": 4,
 "nbformat_minor": 2
}
