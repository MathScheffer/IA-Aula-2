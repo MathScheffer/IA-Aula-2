{
 "cells": [
  {
   "cell_type": "code",
   "execution_count": 1,
   "metadata": {},
   "outputs": [
    {
     "name": "stdout",
     "output_type": "stream",
     "text": [
      "[('A', 0)]\n",
      "Visitando: A\n",
      "{'A': 0, 'C': 2, 'D': 3}\n",
      "[('C', 2), ('D', 3)]\n",
      "Visitando: C\n",
      "{'A': 0, 'C': 2, 'D': 3, 'E': 6, 'F': 8}\n",
      "[('D', 3), ('D', 1), ('E', 4), ('F', 6)]\n",
      "Visitando: E\n",
      "{'A': 0, 'C': 2, 'D': 3, 'E': 6, 'F': 8, 'B': 11}\n",
      "[('D', 3), ('D', 1), ('F', 6), ('B', 5), ('F', 2)]\n",
      "Visitando: D\n",
      "{'A': 0, 'C': 2, 'D': 3, 'E': 6, 'F': 8, 'B': 11, 'G': 8}\n",
      "[('F', 6), ('B', 5), ('F', 2), ('G', 5)]\n",
      "Visitando: F\n",
      "{'A': 0, 'C': 2, 'D': 3, 'E': 6, 'F': 8, 'B': 11, 'G': 8}\n",
      "[('B', 5), ('G', 5), ('B', 3)]\n",
      "Visitando: B\n",
      "Destino alcançado!\n"
     ]
    }
   ],
   "source": [
    "# Representação das Conexões Entre Cidade\n",
    "conexoes = {\n",
    "    'A': [('C', 2), ('D', 3)],\n",
    "    'C': [('D', 1), ('E', 4), ('F', 6)],\n",
    "    'D': [('E', 1), ('G', 5)],\n",
    "    'E': [('B', 5), ('F', 2)],\n",
    "    'F': [('B', 3)],\n",
    "    'G': [('E', 2), ('B', 9)],\n",
    "    'H': [('A', 4), ('D', 3)],\n",
    "    'I': [('H', 3), ('J', 6)],\n",
    "    'J': [('A', 5)]\n",
    "    # você pode adicionar mais valores aqui \n",
    "}\n",
    "\n",
    "# Heurística (distancia de x até B)\n",
    "heuristica = {\n",
    "    'A': 7, 'C': 5, 'D': 7, 'E': 3, 'F': 2,\n",
    "    'G': 6, 'H': 8, 'I': 9, 'J': 10, 'B':0\n",
    "}\n",
    "\n",
    "def busca_star(origem, destino):\n",
    "    fronteira = [(origem, 0)] # [(cidade, distancia)]\n",
    "    visitados = set() # Conjunto de dados únicos = cidades visitadas\n",
    "    \n",
    "    custo_do_caminho = {origem: 0} # para cada cidade\n",
    "    caminho = {} # Guardar o caminho escolhido\n",
    "    \n",
    "    while fronteira:\n",
    "        print(fronteira)\n",
    "        atual, _ = min(fronteira, key=lambda x: custo_do_caminho[x[0]] + heuristica[x[0]]     ) # Busca Gulosa <--- alteração para A*\n",
    "        fronteira = list(filter(lambda x: x[0] != atual, fronteira)) # Remove a cidade atual da fronteira\n",
    "        \n",
    "        print(f\"Visitando: {atual}\")\n",
    "        \n",
    "        if atual == destino:\n",
    "            print(\"Destino alcançado!\")\n",
    "            return\n",
    "        \n",
    "        visitados.add(atual)\n",
    "        # Explorar cidades adjacentes\n",
    "        for vizinho, distancia in conexoes.get(atual, []):\n",
    "            # aqui novo custo ...\n",
    "            if vizinho not in visitados:\n",
    "                custo_do_caminho[vizinho] = custo_do_caminho[atual] + distancia\n",
    "                #\n",
    "                #\n",
    "                fronteira.append((vizinho, distancia))\n",
    "        print(custo_do_caminho)\n",
    "# Executa a busca do caminho\n",
    "busca_star('A', 'B')"
   ]
  },
  {
   "cell_type": "code",
   "execution_count": null,
   "metadata": {},
   "outputs": [],
   "source": []
  }
 ],
 "metadata": {
  "kernelspec": {
   "display_name": "Python 3",
   "language": "python",
   "name": "python3"
  },
  "language_info": {
   "codemirror_mode": {
    "name": "ipython",
    "version": 3
   },
   "file_extension": ".py",
   "mimetype": "text/x-python",
   "name": "python",
   "nbconvert_exporter": "python",
   "pygments_lexer": "ipython3",
   "version": "3.12.2"
  }
 },
 "nbformat": 4,
 "nbformat_minor": 2
}
