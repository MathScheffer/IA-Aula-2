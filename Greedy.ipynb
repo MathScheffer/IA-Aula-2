{
 "cells": [
  {
   "cell_type": "code",
   "execution_count": 2,
   "metadata": {},
   "outputs": [],
   "source": [
    "\n",
    "conexoes = {\n",
    "\n",
    "  'A': [('C', 2), ('D', 3)],\n",
    "\n",
    "  'C': [('D', 1), ('E', 4), ('F', 6)],\n",
    "\n",
    "  'D': [('E', 1), ('G', 5)],\n",
    "\n",
    "  'E': [('B', 5), ('F',2)],\n",
    "\n",
    "  'F': [('B', 3)],\n",
    "\n",
    "  'G': [('E', 2), ('B', 9)],\n",
    "\n",
    "  'H': [('A', 4), ('D', 3)],\n",
    "\n",
    "  'I': [('H', 3), ('J', 6)],\n",
    "\n",
    "  'J': [('A', 5)],\n",
    "\n",
    "  # adicionar quantas cidades e conexões quiser\n",
    "\n",
    "}\n",
    "\n",
    "#Distancia para a distância de x até cidade B\n",
    "heuristica = {\n",
    "    'A': 7, 'C':5, 'D':7, 'E': 3, 'F':2,\n",
    "    'G': 6, 'H': 8, 'I':9, 'J':10, 'B': 0\n",
    "}\n",
    "\n"
   ]
  },
  {
   "cell_type": "code",
   "execution_count": 3,
   "metadata": {},
   "outputs": [
    {
     "name": "stdout",
     "output_type": "stream",
     "text": [
      "Fronteira: [('A', 0)]\n",
      "Fronteira renovada: []\n",
      "Visitando: A\n",
      "Fronteira: [('C', 2), ('D', 3)]\n",
      "Fronteira renovada: [('D', 3)]\n",
      "Visitando: C\n",
      "Fronteira: [('D', 3), ('D', 1), ('E', 4), ('F', 6)]\n",
      "Fronteira renovada: [('D', 3), ('D', 1), ('E', 4)]\n",
      "Visitando: F\n",
      "Fronteira: [('D', 3), ('D', 1), ('E', 4), ('B', 3)]\n",
      "Fronteira renovada: [('D', 3), ('D', 1), ('E', 4)]\n",
      "Visitando: B\n",
      "Destino encontrado\n"
     ]
    }
   ],
   "source": [
    "def busca_greedy(origem, destino):\n",
    "    #Inicializar a fronteira (cidades adjacentes), a partir da cidade de origem\n",
    "    fronteira = [(origem, 0)] #começa no ponto 0 | não andei ainda\n",
    "    visitados = set() #? conjunto de itens únicos | cidades únicas\n",
    "    \n",
    "    while fronteira:\n",
    "        #Escolhe a cidade com a menor heuristica na fronteira\n",
    "        print(f'Fronteira: {fronteira}')\n",
    "\n",
    "        def teste(x):\n",
    "            print(f'tupla no min: {x}')\n",
    "            print(f'Chave no min: {x[0]} Valor {x[1]}' )\n",
    "            print(f'Heuristica no min: {heuristica[x[0]]}')\n",
    "            return heuristica[x[0]]\n",
    "        \n",
    "        atual, _ = min(fronteira, key=lambda x: heuristica[x[0]])\n",
    "        #filter ? 'a' != atual -> retirar da lista\n",
    "        fronteira = list(filter(lambda x: x[0] != atual, fronteira))\n",
    "        print(f'Fronteira renovada: {fronteira}')\n",
    "        print(f'Visitando: {atual}')\n",
    "        if atual == destino:\n",
    "            print('Destino encontrado')\n",
    "            return \n",
    "        \n",
    "        visitados.add(atual)\n",
    "        # Adiciona as cidades conectadas à fronteira, se não foram visitadas\n",
    "        \n",
    "        for vizinho, distancia in conexoes.get(atual, []):\n",
    "            if vizinho not in visitados:\n",
    "                fronteira.append((vizinho, distancia))\n",
    "        \n",
    "        \n",
    "busca_greedy('A','B')"
   ]
  },
  {
   "cell_type": "code",
   "execution_count": 5,
   "metadata": {},
   "outputs": [
    {
     "name": "stdout",
     "output_type": "stream",
     "text": [
      "[('A', 0)]\n",
      "Visitando: A\n",
      "[('C', 2), ('D', 3)]\n",
      "Visitando: C\n",
      "[('D', 3), ('D', 1), ('E', 4), ('F', 6)]\n",
      "Visitando: F\n",
      "[('D', 3), ('D', 1), ('E', 4), ('B', 3)]\n",
      "Visitando: B\n",
      "Destino encontrado\n"
     ]
    }
   ],
   "source": []
  },
  {
   "cell_type": "code",
   "execution_count": null,
   "metadata": {},
   "outputs": [],
   "source": []
  },
  {
   "cell_type": "code",
   "execution_count": null,
   "metadata": {},
   "outputs": [],
   "source": []
  }
 ],
 "metadata": {
  "kernelspec": {
   "display_name": "Python 3",
   "language": "python",
   "name": "python3"
  },
  "language_info": {
   "codemirror_mode": {
    "name": "ipython",
    "version": 3
   },
   "file_extension": ".py",
   "mimetype": "text/x-python",
   "name": "python",
   "nbconvert_exporter": "python",
   "pygments_lexer": "ipython3",
   "version": "3.12.2"
  }
 },
 "nbformat": 4,
 "nbformat_minor": 2
}
